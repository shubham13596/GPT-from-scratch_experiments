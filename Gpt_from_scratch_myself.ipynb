{
  "cells": [
    {
      "cell_type": "markdown",
      "metadata": {
        "id": "view-in-github",
        "colab_type": "text"
      },
      "source": [
        "<a href=\"https://colab.research.google.com/github/shubham13596/GPT-from-scratch_experiments/blob/main/Gpt_from_scratch_myself.ipynb\" target=\"_parent\"><img src=\"https://colab.research.google.com/assets/colab-badge.svg\" alt=\"Open In Colab\"/></a>"
      ]
    },
    {
      "cell_type": "markdown",
      "metadata": {
        "id": "xWppHEkzEUj5"
      },
      "source": [
        "First building a bigram model"
      ]
    },
    {
      "cell_type": "code",
      "execution_count": null,
      "metadata": {
        "id": "0LZRK5pREWPC"
      },
      "outputs": [],
      "source": [
        "import torch\n",
        "import torch.nn as nn\n",
        "from torch.nn import functional as F"
      ]
    },
    {
      "cell_type": "code",
      "execution_count": null,
      "metadata": {
        "id": "n6SgcnFFEkig"
      },
      "outputs": [],
      "source": [
        "#hyperparameters\n",
        "batch_size = 32 # how many independent sequences processed in parallel\n",
        "block_size = 8 # max context length for prediction\n",
        "max_iters = 3000\n",
        "eval_interval = 300\n",
        "learning_rate = 1e-02\n",
        "device = 'cuda' if torch.cuda.is_available() else 'cpu'\n",
        "eval_iters = 200\n"
      ]
    },
    {
      "cell_type": "code",
      "execution_count": null,
      "metadata": {
        "colab": {
          "base_uri": "https://localhost:8080/"
        },
        "id": "aXBuAIWKFB7X",
        "outputId": "bb95e0d3-7daa-44e1-9979-a40a1477d00c"
      },
      "outputs": [
        {
          "data": {
            "text/plain": [
              "<torch._C.Generator at 0x7c3dd89befb0>"
            ]
          },
          "execution_count": 4,
          "metadata": {},
          "output_type": "execute_result"
        }
      ],
      "source": [
        "torch.manual_seed(1337)"
      ]
    },
    {
      "cell_type": "code",
      "execution_count": null,
      "metadata": {
        "id": "ooSpBuRhFFBm"
      },
      "outputs": [],
      "source": [
        "#wget https://raw.githubusercontent.com/karpathy/char-rnn/master/data/tinyshakespeare/input.txt"
      ]
    },
    {
      "cell_type": "code",
      "execution_count": null,
      "metadata": {
        "colab": {
          "base_uri": "https://localhost:8080/",
          "height": 158
        },
        "id": "dlecQaYdFLuR",
        "outputId": "55146b0e-f682-4f94-83aa-4f58d9f374b6"
      },
      "outputs": [
        {
          "ename": "FileNotFoundError",
          "evalue": "[Errno 2] No such file or directory: 'input.txt'",
          "output_type": "error",
          "traceback": [
            "\u001b[0;31m---------------------------------------------------------------------------\u001b[0m",
            "\u001b[0;31mFileNotFoundError\u001b[0m                         Traceback (most recent call last)",
            "\u001b[0;32m<ipython-input-6-de27bb3f019d>\u001b[0m in \u001b[0;36m<cell line: 0>\u001b[0;34m()\u001b[0m\n\u001b[0;32m----> 1\u001b[0;31m \u001b[0;32mwith\u001b[0m \u001b[0mopen\u001b[0m\u001b[0;34m(\u001b[0m\u001b[0;34m'input.txt'\u001b[0m\u001b[0;34m,\u001b[0m \u001b[0;34m'r'\u001b[0m\u001b[0;34m,\u001b[0m \u001b[0mencoding\u001b[0m \u001b[0;34m=\u001b[0m \u001b[0;34m'utf-8'\u001b[0m\u001b[0;34m)\u001b[0m \u001b[0;32mas\u001b[0m \u001b[0mf\u001b[0m\u001b[0;34m:\u001b[0m\u001b[0;34m\u001b[0m\u001b[0;34m\u001b[0m\u001b[0m\n\u001b[0m\u001b[1;32m      2\u001b[0m   \u001b[0mtext\u001b[0m \u001b[0;34m=\u001b[0m \u001b[0mf\u001b[0m\u001b[0;34m.\u001b[0m\u001b[0mread\u001b[0m\u001b[0;34m(\u001b[0m\u001b[0;34m)\u001b[0m\u001b[0;34m\u001b[0m\u001b[0;34m\u001b[0m\u001b[0m\n",
            "\u001b[0;31mFileNotFoundError\u001b[0m: [Errno 2] No such file or directory: 'input.txt'"
          ]
        }
      ],
      "source": [
        "with open('input.txt', 'r', encoding = 'utf-8') as f:\n",
        "  text = f.read()"
      ]
    },
    {
      "cell_type": "code",
      "execution_count": null,
      "metadata": {
        "id": "SyiiDHFXFfkq"
      },
      "outputs": [],
      "source": [
        "chars = sorted(list(set(text)))"
      ]
    },
    {
      "cell_type": "code",
      "execution_count": null,
      "metadata": {
        "id": "paGHZ3CbFiM4"
      },
      "outputs": [],
      "source": [
        "vocab_size = len(chars)"
      ]
    },
    {
      "cell_type": "code",
      "execution_count": null,
      "metadata": {
        "id": "My0Wy8OWFvqp"
      },
      "outputs": [],
      "source": [
        "stoi = {ch:i for i, ch in enumerate(chars)}\n",
        "itos = {i:ch for i, ch in enumerate(chars)}\n",
        "encode = lambda s: [stoi[c] for c in s]\n",
        "decode = lambda l: ''.join([itos[i] for i in l])"
      ]
    },
    {
      "cell_type": "code",
      "execution_count": null,
      "metadata": {
        "id": "8I31bi5wF9YB"
      },
      "outputs": [],
      "source": [
        "#train and test splits\n",
        "data = torch.tensor(encode(text), dtype = torch.long)\n",
        "n = int(0.9*len(data))\n",
        "train_data = data[:n]\n",
        "val_data = data[n:]"
      ]
    },
    {
      "cell_type": "code",
      "execution_count": null,
      "metadata": {
        "id": "EFeFWmPIGG7V"
      },
      "outputs": [],
      "source": [
        "#data loading\n",
        "def get_batch(split):\n",
        "  data = train_data if split == 'train' else val_data\n",
        "  ix = torch.randint(len(data) - block_size, (batch_size,))\n",
        "  x = torch.stack([data[i:i+block_size] for i in ix])\n",
        "  y = torch.stack([data[i+1:i+1+block_size] for i in ix])\n",
        "  x, y = x.to(device), y.to(device)\n",
        "  return x,y"
      ]
    },
    {
      "cell_type": "code",
      "execution_count": null,
      "metadata": {
        "id": "5F3gqmpeGvJY"
      },
      "outputs": [],
      "source": [
        "@torch.no_grad()\n",
        "def estimate_loss():\n",
        "  out = {}\n",
        "  model.eval()\n",
        "  for split in ['train', 'val']:\n",
        "    losses = torch.zeros(eval_iters)\n",
        "    for k in range(eval_iters):\n",
        "      X, Y = get_batch(split)\n",
        "      logits, loss = model(X, Y)\n",
        "      losses[k] = loss.item()\n",
        "    out[split] = losses.mean()\n",
        "  model.train()\n",
        "  return out\n"
      ]
    },
    {
      "cell_type": "code",
      "execution_count": null,
      "metadata": {
        "id": "xpnj7uHcIjqE"
      },
      "outputs": [],
      "source": [
        "#super simple bigram model\n",
        "class BigramLanguageModel(nn.Module):\n",
        "  def __init__(self, vocab_size):\n",
        "    super().__init__()\n",
        "    # each token directly reads off the logits for the next token from a lookup table\n",
        "    self.token_embedding_table = nn.Embedding(vocab_size, vocab_size)\n",
        "\n",
        "  def forward(self, idx, targets = None):\n",
        "    #idx and targets are both tensors of (B,T) tensor of integer\n",
        "    logits = self.token_embedding_table(idx)\n",
        "\n",
        "    if targets is None:\n",
        "      loss = None\n",
        "    else:\n",
        "      B, T, C = logits.shape\n",
        "      logits = logits.view(B*T, C)\n",
        "      targets = targets.view(B*T)\n",
        "      loss = F.cross_entropy(logits, targets)\n",
        "\n",
        "    return logits, loss\n",
        "\n",
        "  def generate(self, idx, max_new_tokens):\n",
        "    #idx is (B,T) array of indices in the current context\n",
        "    for _ in range(max_new_tokens):\n",
        "      #get the predictions\n",
        "      logits, loss = self(idx)\n",
        "      # focus only on the last time step\n",
        "      logits = logits[:, -1, :]\n",
        "      #apply softmax to get probabilities\n",
        "      probs = F.softmax(logits, dim=-1) #(B,C)\n",
        "      #sample from the distributio\n",
        "      idx_next = torch.multinomial(probs, num_samples = 1) #B,1\n",
        "      #append sampled index to the running sequence\n",
        "      idx = torch.cat((idx, idx_next), dim=1) # (B, T+1)\n",
        "    return idx"
      ]
    },
    {
      "cell_type": "code",
      "execution_count": null,
      "metadata": {
        "id": "eF_622xXcnKK"
      },
      "outputs": [],
      "source": [
        "model = BigramLanguageModel(vocab_size)\n",
        "m = model.to(device)\n",
        "\n",
        "#create a pytorch optimizer\n",
        "optimizer = torch.optim.AdamW(model.parameters(), lr = learning_rate)\n",
        "\n",
        "for iter in range(max_iters):\n",
        "  if iter%eval_interval == 0:\n",
        "    losses = estimate_loss()\n",
        "    print(f\"step {iter}: train loss {losses['train']:.4f}, val loss {losses['val']:.4f}\")\n",
        "\n",
        "  #sample a batch of data\n",
        "  xb, yb = get_batch(\"train\")\n",
        "\n",
        "  #evaluate the loss\n",
        "  logits, loss = model(xb, yb)\n",
        "  optimizer.zero_grad(set_to_none=True)\n",
        "  loss.backward()\n",
        "  optimizer.step()\n",
        "\n",
        "#generate from the model\n",
        "context = torch.zeros((1,1), dtype = torch.long, device = device)\n",
        "print(decode(m.generate(context, max_new_tokens = 500)[0].tolist()))"
      ]
    },
    {
      "cell_type": "code",
      "execution_count": null,
      "metadata": {
        "colab": {
          "base_uri": "https://localhost:8080/"
        },
        "id": "urOJEYX1WnP8",
        "outputId": "8b7f3229-58b3-4533-eaa3-18e857cbc330"
      },
      "outputs": [
        {
          "data": {
            "text/plain": [
              "tensor([41, 31,  5])"
            ]
          },
          "execution_count": 14,
          "metadata": {},
          "output_type": "execute_result"
        }
      ],
      "source": [
        "torch.manual_seed(137)\n",
        "torch.randint(63,(3,))"
      ]
    },
    {
      "cell_type": "code",
      "execution_count": null,
      "metadata": {
        "id": "pYphZDx1dlY5"
      },
      "outputs": [],
      "source": []
    },
    {
      "cell_type": "markdown",
      "metadata": {
        "id": "bZp7xDByfWNQ"
      },
      "source": [
        "Now building GPT"
      ]
    },
    {
      "cell_type": "code",
      "execution_count": null,
      "metadata": {
        "colab": {
          "base_uri": "https://localhost:8080/",
          "height": 35
        },
        "id": "06fgCPfVkd1D",
        "outputId": "e6511cd4-c0c5-4b34-9703-44d03c5584fc"
      },
      "outputs": [
        {
          "data": {
            "application/vnd.google.colaboratory.intrinsic+json": {
              "type": "string"
            },
            "text/plain": [
              "'df sdf'"
            ]
          },
          "execution_count": 2,
          "metadata": {},
          "output_type": "execute_result"
        }
      ],
      "source": [
        "#okay what do we need to do\n",
        "#first define a head through a class\n",
        "#then define multi head (mke sure there is a linear layer at the last)\n",
        "# then define a block\n",
        "# then define a gptlanguage model\n",
        "\n",
        "#the steps are usual\n",
        "\"\"\"\n",
        "the steps are usual\n",
        "1. take the raw data\n",
        "2. find unqiue vocab to give you vocab_size\n",
        "3. there is a certain batch_size and n_embd\n",
        "4. this time we will also have a head_size and number of heads\n",
        "5. define it later\n",
        "6. there will be a similar loss function as well.. that nothing changes\n",
        "7. there will be a similar optimizer as well\n",
        "8.\n",
        "\"\"\"\n"
      ]
    },
    {
      "cell_type": "code",
      "execution_count": null,
      "metadata": {
        "id": "pmiEdsDR9kFq"
      },
      "outputs": [],
      "source": [
        "import torch\n",
        "import torch.nn as nn\n",
        "from torch.nn import functional as F\n",
        "\n",
        "#hyperparameters\n",
        "batch_size = 64 # how many independent sequences processed in parallel\n",
        "block_size = 256 # max context length for prediction\n",
        "max_iters = 2500\n",
        "eval_interval = 500\n",
        "learning_rate = 3e-04\n",
        "eval_iters = 200\n",
        "n_embd = 256\n",
        "n_head = 6\n",
        "n_layer = 6\n",
        "dropout = 0.2\n",
        "device = 'cuda' if torch.cuda.is_available() else 'cpu'\n"
      ]
    },
    {
      "cell_type": "code",
      "execution_count": null,
      "metadata": {
        "colab": {
          "base_uri": "https://localhost:8080/"
        },
        "id": "IgdK04RuJqNg",
        "outputId": "1c36362e-770e-4d55-fd86-a8c944abeba9"
      },
      "outputs": [
        {
          "output_type": "execute_result",
          "data": {
            "text/plain": [
              "<torch._C.Generator at 0x7f272868b1b0>"
            ]
          },
          "metadata": {},
          "execution_count": 2
        }
      ],
      "source": [
        "torch.manual_seed(1337)"
      ]
    },
    {
      "cell_type": "code",
      "execution_count": null,
      "metadata": {
        "id": "L-00hB8cJzY2"
      },
      "outputs": [],
      "source": [
        "with open('input_lalaland.txt', 'r', encoding = 'utf-8') as f:\n",
        "  text = f.read()"
      ]
    },
    {
      "cell_type": "code",
      "execution_count": null,
      "metadata": {
        "id": "n_FUHzL-JzWx"
      },
      "outputs": [],
      "source": [
        "chars = sorted(list(set(text)))\n",
        "vocab_size = len(chars)\n",
        "stoi = {ch:i for i, ch in enumerate(chars)}\n",
        "itos = {i:ch for i, ch in enumerate(chars)}\n",
        "encode = lambda s: [stoi[c] for c in s]\n",
        "decode = lambda l: \"\".join(itos[i] for i in l)"
      ]
    },
    {
      "cell_type": "code",
      "execution_count": null,
      "metadata": {
        "id": "qafTURf0JzUZ"
      },
      "outputs": [],
      "source": [
        "data = torch.tensor(encode(text), dtype = torch.long, device = device)\n",
        "n = int(0.9*len(data)) # first 90% will be train, rest val\n",
        "train_data = data[:n]\n",
        "val_data = data[n:]"
      ]
    },
    {
      "cell_type": "code",
      "execution_count": null,
      "metadata": {
        "id": "-IGSfpfyJzSI"
      },
      "outputs": [],
      "source": [
        "# data loading\n",
        "def get_batch(split):\n",
        "    # generate a small batch of data of inputs x and targets y\n",
        "    data = train_data if split == 'train' else val_data\n",
        "    ix = torch.randint(len(data) - block_size, (batch_size,))\n",
        "    x = torch.stack([data[i:i+block_size] for i in ix])\n",
        "    y = torch.stack([data[i+1:i+block_size+1] for i in ix])\n",
        "    x, y = x.to(device), y.to(device)\n",
        "    return x, y"
      ]
    },
    {
      "cell_type": "code",
      "execution_count": null,
      "metadata": {
        "id": "i5M3B1EnCzTT"
      },
      "outputs": [],
      "source": [
        "@torch.no_grad()\n",
        "def estimate_loss():\n",
        "  out = {}\n",
        "  model.eval()\n",
        "  for split in ['train', 'val']:\n",
        "    losses = torch.zeros(eval_iters)\n",
        "    for k in range(eval_iters):\n",
        "      X, Y = get_batch(split)\n",
        "      logits, loss = model(X, Y)\n",
        "      losses[k] = loss.item()\n",
        "    out[split] = losses.mean()\n",
        "  model.train()\n",
        "  return out"
      ]
    },
    {
      "cell_type": "code",
      "execution_count": null,
      "metadata": {
        "id": "__3JowsP5TpO"
      },
      "outputs": [],
      "source": [
        "class Head(nn.Module):\n",
        "  #defining one head of attention\n",
        "  def __init__(self, head_size):\n",
        "    super().__init__()\n",
        "    self.key = nn.Linear(n_embd, head_size, bias = False)\n",
        "    self.query = nn.Linear(n_embd, head_size, bias = False)\n",
        "    self.value = nn.Linear(n_embd, head_size, bias = False)\n",
        "    self.register_buffer('tril', torch.tril(torch.ones(block_size, block_size)))\n",
        "\n",
        "    self.dropout = nn.Dropout(dropout)\n",
        "\n",
        "  def forward(self,x):\n",
        "\n",
        "    B,T,C = x.shape\n",
        "    k = self.key(x)\n",
        "    q = self.query(x)\n",
        "    v = self.value(x)\n",
        "\n",
        "    wei = q @ k.transpose(-2,-1) * k.shape[-1]**-0.5\n",
        "    wei = wei.masked_fill(self.tril[:T, :T] == 0, float(\"-inf\"))\n",
        "    wei = F.softmax(wei, dim = -1)\n",
        "    wei = self.dropout(wei)\n",
        "    out = wei @ v\n",
        "    return out"
      ]
    },
    {
      "cell_type": "code",
      "execution_count": null,
      "metadata": {
        "id": "MJv1e3jv9_FP"
      },
      "outputs": [],
      "source": [
        "class MultiHeadAttention(nn.Module):\n",
        "\n",
        "  def __init__(self, num_heads, head_size):\n",
        "    super().__init__()\n",
        "    self.heads = nn.ModuleList([Head(head_size) for _ in range(num_heads)])# understand why nn.ModuleList??\n",
        "    self.proj = nn.Linear(head_size*num_heads, n_embd)\n",
        "    self.dropout = nn.Dropout(dropout)\n",
        "\n",
        "  def forward(self, x):\n",
        "    out = torch.cat([h(x) for h in self.heads], dim = -1)\n",
        "    out = self.dropout(self.proj(out))\n",
        "    return out"
      ]
    },
    {
      "cell_type": "code",
      "execution_count": null,
      "metadata": {
        "id": "abVjpFXtM-kN"
      },
      "outputs": [],
      "source": [
        "class FeedForward(nn.Module):\n",
        "    \"\"\" a simple linear layer followed by a non-linearity \"\"\"\n",
        "\n",
        "    def __init__(self, n_embd):\n",
        "        super().__init__()\n",
        "        self.net = nn.Sequential(\n",
        "            nn.Linear(n_embd, 4 * n_embd),\n",
        "            nn.ReLU(),\n",
        "            nn.Linear(4 * n_embd, n_embd),\n",
        "            nn.Dropout(dropout),\n",
        "        )\n",
        "\n",
        "    def forward(self, x):\n",
        "        return self.net(x)"
      ]
    },
    {
      "cell_type": "code",
      "execution_count": null,
      "metadata": {
        "id": "QxxP7ZrzA7ac"
      },
      "outputs": [],
      "source": [
        "class Block(nn.Module):\n",
        "\n",
        "  def __init__(self, n_embd, n_head):\n",
        "    # n_embd: embedding dimension, n_head: the number of heads we'd like\n",
        "    super().__init__()\n",
        "    head_size = n_embd // n_head\n",
        "    self.sa = MultiHeadAttention(head_size, n_head)\n",
        "    self.ffwd = FeedForward(n_embd)\n",
        "    self.ln1 = nn.LayerNorm(n_embd)\n",
        "    self.ln2 = nn.LayerNorm(n_embd)\n",
        "\n",
        "  def forward(self, x):\n",
        "    x = x + self.sa(self.ln1(x))\n",
        "    x = x + self.ffwd(self.ln2(x))\n",
        "    return x"
      ]
    },
    {
      "cell_type": "code",
      "execution_count": null,
      "metadata": {
        "id": "TAmzh3i9CaF_"
      },
      "outputs": [],
      "source": [
        "class GPTLanguageModel(nn.Module):\n",
        "\n",
        "  def __init__(self):\n",
        "    super().__init__()\n",
        "    self.token_embedding_table = nn.Embedding(vocab_size, n_embd)\n",
        "    self.position_embedding_table = nn.Embedding(block_size, n_embd)\n",
        "    self.blocks = nn.Sequential(*[Block(n_embd, n_head=n_head) for _ in range(n_layer)])\n",
        "    self.ln_f = nn.LayerNorm(n_embd) #final layer norm\n",
        "    self.lm_head = nn.Linear(n_embd, vocab_size)\n",
        "    self.apply(self._init_weights)\n",
        "\n",
        "  def _init_weights(self, module):\n",
        "    if isinstance(module, nn.Linear):\n",
        "      nn.init.normal_(module.weight, mean = 0.0, std = 0.02)\n",
        "      if module.bias is not None:\n",
        "        nn.init.zeros_(module.bias)\n",
        "    elif isinstance(module, nn.Embedding):\n",
        "      nn.init.normal_(module.weight, mean = 0.0, std = 0.02)\n",
        "\n",
        "  def forward(self, idx, targets = None):\n",
        "    B, T = idx.shape\n",
        "    tok_emb = self.token_embedding_table(idx)\n",
        "    pos_emb = self.position_embedding_table(torch.arange(T, device = device))\n",
        "    x = tok_emb + pos_emb\n",
        "    x = self.blocks(x)\n",
        "    x = self.ln_f(x)\n",
        "    logits = self.lm_head(x)\n",
        "\n",
        "    if targets == None:\n",
        "      loss = None\n",
        "    else:\n",
        "      B, T, C = logits.shape\n",
        "      logits = logits.view(B*T, C)\n",
        "      targets = targets.view(B*T)\n",
        "      loss = F.cross_entropy(logits, targets)\n",
        "\n",
        "    return logits, loss\n",
        "\n",
        "  def generate(self, idx, max_new_tokens):\n",
        "    # idx is (B, T) array of indices in the current context\n",
        "    for _ in range(max_new_tokens):\n",
        "      # crop idx to the last block_size tokens\n",
        "      idx_cond = idx[:, -block_size:]\n",
        "      # get the predictions\n",
        "      logits, loss = self(idx_cond)\n",
        "      # focus only on the last time step\n",
        "      logits = logits[:, -1, :] # becomes (B, C)\n",
        "      # apply softmax to get probabilities\n",
        "      probs = F.softmax(logits, dim=-1) # (B, C)\n",
        "      # sample from the distribution\n",
        "      idx_next = torch.multinomial(probs, num_samples=1) # (B, 1)\n",
        "      idx = torch.cat((idx, idx_next), dim = 1) # check why dim is 1 instead of -1?\n",
        "    return idx\n"
      ]
    },
    {
      "cell_type": "code",
      "execution_count": null,
      "metadata": {
        "colab": {
          "base_uri": "https://localhost:8080/"
        },
        "id": "fL6RJxi0Cpmr",
        "outputId": "37d74d4e-44ae-4aff-d946-6be2a10ea94e"
      },
      "outputs": [
        {
          "output_type": "stream",
          "name": "stdout",
          "text": [
            "4.820055 M parameters\n",
            "step 0: train loss 4.5341, val loss 4.5356\n",
            "step 500: train loss 1.8494, val loss 2.0740\n",
            "step 1000: train loss 0.8615, val loss 1.8938\n",
            "step 1500: train loss 0.2509, val loss 2.4000\n",
            "step 2000: train loss 0.1147, val loss 2.8260\n",
            "step 2499: train loss 0.0890, val loss 3.1083\n"
          ]
        }
      ],
      "source": [
        "model = GPTLanguageModel()\n",
        "m = model.to(device)\n",
        "# print the number of parameters in the model\n",
        "print(sum(p.numel() for p in m.parameters())/1e6, 'M parameters')\n",
        "\n",
        "# create a PyTorch optimizer\n",
        "optimizer = torch.optim.AdamW(model.parameters(), lr=learning_rate)\n",
        "\n",
        "for iter in range(max_iters):\n",
        "  if iter % eval_interval == 0 or iter == max_iters - 1:\n",
        "    losses = estimate_loss()\n",
        "    print(f\"step {iter}: train loss {losses['train']:.4f}, val loss {losses['val']:.4f}\")\n",
        "\n",
        "  xb, yb = get_batch(split=\"train\")\n",
        "  logits, loss = model(xb, yb)\n",
        "  optimizer.zero_grad(set_to_none = True)\n",
        "  loss.backward()\n",
        "  optimizer.step()\n"
      ]
    },
    {
      "cell_type": "code",
      "execution_count": null,
      "metadata": {
        "id": "IS00x4qoGdLh",
        "colab": {
          "base_uri": "https://localhost:8080/"
        },
        "outputId": "594d8a09-7bb9-400a-b6bb-4ec572cc6b6e"
      },
      "outputs": [
        {
          "output_type": "stream",
          "name": "stdout",
          "text": [
            "\n",
            "Nor Mia -- and Sebastian his with that -- twas tre the library\n",
            "reftror an of her Mia fis -- when -MIA\n",
            "How orkidom rody.\n",
            "TRACY\n",
            "I’ve alpos a stree Carlying -- I cut tabo.\n",
            "Do you be any theare rie?\n",
            "MIA\n",
            "(finally in --- his In the corner...\n",
            "(asmile; a beat)\n",
            "Well-grees Mia feels. Throse. Gethen, trypect into her players reflection the\n",
            "their paino f jacois. Thest the fronem iss the\n",
            "look at its lenot oTV.\n",
            "LAT. Somets down opps a trackes. A we second. The band finishes away.\n",
            "10’s the THEAR FAT EITSE]\n",
            "Mia\n"
          ]
        }
      ],
      "source": [
        "#generate from the model\n",
        "context = torch.zeros((1,1), dtype = torch.long, device = device)\n",
        "print(decode(m.generate(context, max_new_tokens = 500)[0].tolist()))"
      ]
    },
    {
      "cell_type": "code",
      "source": [
        "'''\n",
        "\n",
        "Manual logging:\n",
        "Experimenet 1\n",
        "Total params: 10.78Mn\n",
        "Iterations: 500\n",
        "Batch size: 64\n",
        "n_embd = 385\n",
        "n_layers = 6\n",
        "batch_size = 64 # how many independent sequences processed in parallel\n",
        "block_size = 256 # max context length for prediction\n",
        "max_iters = 500\n",
        "eval_interval = 500\n",
        "learning_rate = 3e-04\n",
        "eval_iters = 200\n",
        "n_embd = 384\n",
        "n_head = 6\n",
        "n_layer = 6\n",
        "dropout = 0.2\n",
        "\n",
        "Step 0: 4.8 loss\n",
        "step 0: train loss 4.2253, val loss 4.2271\n",
        "step 499: train loss 1.9333, val loss 2.0483\n",
        "\n",
        "ISIVSul:\n",
        "Dicive manke tighte  nen't degrainly, Yould thaklt\n",
        "Now seacke beaght bugut st sof thelme.\n",
        "\n",
        "CAPULIENET:\n",
        "Whit notaret: soorce most' buty wou clouad ad\n",
        "Sprinip teaing frve'sed ist yous.\n",
        "\n",
        "CAMILLIO:\n",
        "Terfomet, roveces?\n",
        "\n",
        "DUpACELIUS:\n",
        "Thll mongst ay mil; thore, ree, to-botht lod I plee,\n",
        "And twall day grirdll yourd\n",
        "FYourst whee grem, arver'd, thy I gras tarkeat,\n",
        "Lody Mat a he sto crild, mold hay my vomact-oin! He kn. yoif Matuke-gbay\n",
        "\n",
        "Seast I plind. Tings iteam, scofty, I shom to hire fred,\n",
        "At pl\n",
        "\n",
        "Experiment 2:\n",
        "input = la la land script\n",
        "batch_size = 64 # how many independent sequences processed in parallel\n",
        "block_size = 256 # max context length for prediction\n",
        "max_iters = 2500\n",
        "eval_interval = 500\n",
        "learning_rate = 3e-04\n",
        "eval_iters = 200\n",
        "n_embd = 256\n",
        "n_head = 6\n",
        "n_layer = 6\n",
        "dropout = 0.2\n",
        "4.820055 M parameters\n",
        "step 0: train loss 4.5341, val loss 4.5356\n",
        "step 500: train loss 1.8494, val loss 2.0740\n",
        "step 1000: train loss 0.8615, val loss 1.8938\n",
        "step 1500: train loss 0.2509, val loss 2.4000\n",
        "step 2000: train loss 0.1147, val loss 2.8260\n",
        "step 2499: train loss 0.0890, val loss 3.1083\n",
        "\n",
        "Nor Mia -- and Sebastian his with that -- twas tre the library\n",
        "reftror an of her Mia fis -- when -MIA\n",
        "How orkidom rody.\n",
        "TRACY\n",
        "I’ve alpos a stree Carlying -- I cut tabo.\n",
        "Do you be any theare rie?\n",
        "MIA\n",
        "(finally in --- his In the corner...\n",
        "(asmile; a beat)\n",
        "Well-grees Mia feels. Throse. Gethen, trypect into her players reflection the\n",
        "their paino f jacois. Thest the fronem iss the\n",
        "look at its lenot oTV.\n",
        "LAT. Somets down opps a trackes. A we second. The band finishes away.\n",
        "10’s the THEAR FAT EITSE]\n",
        "Mia\n",
        "\n",
        "'''"
      ],
      "metadata": {
        "id": "RBFP5KkIDfIE",
        "colab": {
          "base_uri": "https://localhost:8080/",
          "height": 106
        },
        "outputId": "0fa7a142-d8f3-4124-99aa-c26c15e88521"
      },
      "execution_count": null,
      "outputs": [
        {
          "output_type": "error",
          "ename": "SyntaxError",
          "evalue": "incomplete input (<ipython-input-16-e4615a684824>, line 1)",
          "traceback": [
            "\u001b[0;36m  File \u001b[0;32m\"<ipython-input-16-e4615a684824>\"\u001b[0;36m, line \u001b[0;32m1\u001b[0m\n\u001b[0;31m    \"\"\"\u001b[0m\n\u001b[0m    ^\u001b[0m\n\u001b[0;31mSyntaxError\u001b[0m\u001b[0;31m:\u001b[0m incomplete input\n"
          ]
        }
      ]
    },
    {
      "cell_type": "code",
      "source": [],
      "metadata": {
        "id": "nr_AzvZyF51L"
      },
      "execution_count": null,
      "outputs": []
    }
  ],
  "metadata": {
    "accelerator": "GPU",
    "colab": {
      "gpuType": "T4",
      "machine_shape": "hm",
      "provenance": [],
      "authorship_tag": "ABX9TyNKsQS8FNYc4O5xVUhH9uxe",
      "include_colab_link": true
    },
    "kernelspec": {
      "display_name": "Python 3",
      "name": "python3"
    },
    "language_info": {
      "name": "python"
    }
  },
  "nbformat": 4,
  "nbformat_minor": 0
}